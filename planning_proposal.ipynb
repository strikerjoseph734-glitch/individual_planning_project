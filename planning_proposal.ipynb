{
 "cells": [
  {
   "cell_type": "markdown",
   "id": "27ba9e0d-da2a-44ec-9033-4319e474d77b",
   "metadata": {},
   "source": [
    "# Individual Planning Report\n",
    "\n",
    "## Project: Predicting Newsletter Subscription Based on Player Demographics\n",
    "\n",
    "This report is a planning proposal for a data science project using data collected from UBC's MineCraft server. The goal is to investigate whether player data collected can predict whether someone will subscribe to a game-related newsletter."
   ]
  },
  {
   "cell_type": "markdown",
   "id": "05b0f252-19fe-455f-a5f9-6ac016da37b0",
   "metadata": {},
   "source": [
    "## 1. Data Description\n",
    "This project uses 2 datasets collected from UBC's MineCraft server:\n",
    "- **players.csv**: Contains one row per player, each row contains demographic information as well as whether the player is subscribed to the newsletter.\n",
    "- **sessions.csv**: Contains one row per play-session, each row contains a hashed email for the player, as well as start and end times of the session.\n",
    "\n",
    "It is important to note that if necessary, players could be linked to their individual sessions by using their hashed email, which is a variable present in both datasets.\n",
    "\n",
    "In order to understand the data, both datasets will be previewed and explained, before summary statistics are calculated. The first dataset will be the players.csv set, which contains player data.\n"
   ]
  },
  {
   "cell_type": "code",
   "execution_count": null,
   "id": "7b9c26c7-96f3-4fa3-9e79-3a9a620a39f6",
   "metadata": {},
   "outputs": [],
   "source": [
    "library(tidyverse)\n",
    "\n",
    "players <- read_csv(\"Data/players.csv\")\n",
    "\n",
    "head(players, n = 10)"
   ]
  },
  {
   "cell_type": "markdown",
   "id": "1f3f79fd-b00b-41a4-8e4b-0b3268b2e968",
   "metadata": {},
   "source": [
    "As shown above, there are **196** observations across **7** variables. \n",
    "- **experience**: This is a character variable that has 5 different options, based on the player's experience on playing Minecraft\n",
    "- **subscribe**: This is a logical variable that depends on whether the player has subscribed to the newsletter\n",
    "- **hashedEmail**: A character variable that gives an encoded version of the player's email\n",
    "- **played_hours**: A double variable that gives the total number of time the player spent playing the game\n",
    "- **name**: A character variable that gives the player's name\n",
    "- **gender**: A character variable that gives the player's gender\n",
    "- **age**: A double variable that gives the player's age"
   ]
  },
  {
   "cell_type": "markdown",
   "id": "3fb5080b-1235-4943-827f-51f04d13ba6f",
   "metadata": {},
   "source": [
    "Now, summary statistics will be calculated for the dataframe:"
   ]
  },
  {
   "cell_type": "code",
   "execution_count": null,
   "id": "cde9c0f1-e93f-4a16-9c73-bb91cdce42ab",
   "metadata": {},
   "outputs": [],
   "source": [
    "players_factor <- players |>\n",
    "  #Converts non numerical variables to factors so percentages can be calculated\n",
    "  mutate(experience = factor(experience),\n",
    "    gender = factor(gender),\n",
    "    subscribe = factor(subscribe)\n",
    "        )\n",
    "#Summarise to calculate summary statistics for age and hours played\n",
    "age_summary <- players_factor |>\n",
    "    summarise(mean_age = round(mean(Age, na.rm = TRUE), 2),\n",
    "              median_age = median(Age, na.rm = TRUE),\n",
    "              min_age = min(Age, na.rm = TRUE),\n",
    "              max_age = max(Age, na.rm = TRUE)\n",
    "              )\n",
    "age_summary\n",
    "hours_summary <- players_factor |>\n",
    "    summarise(mean_played_hours = round(mean(played_hours, na.rm = TRUE), 2),\n",
    "            median_played_hours = median(played_hours, na.rm = TRUE),\n",
    "            min_played_hours = min(played_hours, na.rm = TRUE),\n",
    "            max_played_hours = max(played_hours, na.rm = TRUE)\n",
    "             )\n",
    "\n",
    "hours_summary\n",
    "\n",
    "#Percentages for gender, experience and subscribed\n",
    "gender_pct <- players_factor |>\n",
    "  count(gender) |>\n",
    "  mutate(percentage = round(n / sum(n) * 100, 2))|>\n",
    "  rename(number = n)\n",
    "\n",
    "experience_pct <- players_factor |>\n",
    "  count(experience) |>\n",
    "  mutate(percentage = round(n / sum(n) * 100, 2))|>\n",
    "  rename(number = n)\n",
    "\n",
    "subscribe_pct <- players_factor |>\n",
    "  count(subscribe) |>\n",
    "  mutate(percentage = round(n / sum(n) * 100, 2))|>\n",
    "  rename(number = n)\n",
    "\n",
    "gender_pct\n",
    "experience_pct\n",
    "subscribe_pct"
   ]
  },
  {
   "cell_type": "markdown",
   "id": "d5cd2ac8-7d60-4337-b445-a27e4cef9be8",
   "metadata": {},
   "source": [
    "Now, the same process will be applied to the sessions.csv dataset, which outlines each individual session played on MineCraft."
   ]
  },
  {
   "cell_type": "code",
   "execution_count": null,
   "id": "b0825639-68f5-45d0-99e3-4d73835734d4",
   "metadata": {},
   "outputs": [],
   "source": [
    "sessions <- read_csv(\"Data/sessions.csv\")\n",
    "\n",
    "head(n = 10,sessions)"
   ]
  },
  {
   "cell_type": "markdown",
   "id": "f184326b-07a0-4785-a063-8466aac6157b",
   "metadata": {},
   "source": [
    "There are **1535** observations and **5** variables for this dataset.\n",
    "- **hashedEmail**: As in the players dataset, hashed email is a character variable that gives an encoded version of the player's email\n",
    "- **start_time**: A character representation of the date (dd/mm/yy) and time (hh/mm) the player started the play session\n",
    "- **end_time**: A character representation of the date (dd/mm/yy) and time (hh/mm) the player ended the play session\n",
    "- **original_start_time**: A double representation of the amount of milliseconds from January 1st, 1970 to when the session was started\n",
    "- **original_end_time**: A double representation of the amount of milliseconds from January 1st, 1970 to when the session was ended"
   ]
  },
  {
   "cell_type": "markdown",
   "id": "1cd43270-b031-40e5-80a4-b9dd44b02e55",
   "metadata": {},
   "source": [
    "Once again, summary statistics will be calculated:"
   ]
  },
  {
   "cell_type": "code",
   "execution_count": null,
   "id": "8f239d61-629f-47b9-b1f8-d0cc20254114",
   "metadata": {},
   "outputs": [],
   "source": [
    "library(lubridate)\n",
    "\n",
    "#advice on how to convert using lubridate taken from here:\n",
    "#https://www.r-bloggers.com/2024/09/mastering-date-and-time-data-in-r-with-lubridate/\n",
    "sessions_summary <- sessions |>\n",
    "  mutate(\n",
    "    start_time = dmy_hm(start_time),\n",
    "    end_time = dmy_hm(end_time),\n",
    "    session_minutes = as.numeric(end_time - start_time)\n",
    "  )|>\n",
    "summarise(\n",
    "    mean_minutes = round(mean(session_minutes, na.rm = TRUE), 2),\n",
    "    median_minutes = round(median(session_minutes, na.rm = TRUE), 2),\n",
    "    min_minutes = round(min(session_minutes, na.rm = TRUE ), 2),\n",
    "    max_minutes = round(max(session_minutes, na.rm = TRUE ), 2)\n",
    "    )\n",
    "\n",
    "sessions_summary\n"
   ]
  },
  {
   "cell_type": "markdown",
   "id": "4ecdb526-db36-46c7-95ce-55f2be3e9e97",
   "metadata": {},
   "source": [
    "**Limitations**\n",
    "\n",
    "Based on the two datasets, it is clear that while they are very useful, they do have some limitations. For example, there are many N/A values in both sets, meaning that in order to predict values accurately, methods such as mean imputation will have to be used. Additionally, there may have been some biases in collecting the data, based on the fact that it was targeted at other university students, as shown in the mean and median ages. This means that any results found in this study may be correct for UBC students and their tendencies, but not for the general population that includes a variety of ages. Neverthless, this study should provide important data on whether a person will subscribe to a game-related newsletter based on their demographics. "
   ]
  }
 ],
 "metadata": {
  "kernelspec": {
   "display_name": "R",
   "language": "R",
   "name": "ir"
  },
  "language_info": {
   "codemirror_mode": "r",
   "file_extension": ".r",
   "mimetype": "text/x-r-source",
   "name": "R",
   "pygments_lexer": "r",
   "version": "4.3.3"
  }
 },
 "nbformat": 4,
 "nbformat_minor": 5
}
