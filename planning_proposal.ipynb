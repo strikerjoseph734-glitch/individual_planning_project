{
 "cells": [
  {
   "cell_type": "markdown",
   "id": "27ba9e0d-da2a-44ec-9033-4319e474d77b",
   "metadata": {},
   "source": [
    "# Individual Planning Report\n",
    "\n",
    "## Project: Predicting Newsletter Subscription Based on Player Demographics\n",
    "\n",
    "This report is a planning proposal for a data science project using data collected from UBC's MineCraft server. The goal is to investigate whether player data collected can predict whether someone will subscribe to a game-related newsletter."
   ]
  },
  {
   "cell_type": "markdown",
   "id": "05b0f252-19fe-455f-a5f9-6ac016da37b0",
   "metadata": {},
   "source": [
    "## 1. Data Description\n",
    "This project uses 2 datasets collected from UBC's MineCraft server:\n",
    "- **players.csv**: Contains one row per player, each row contains demographic information as well as whether the player is subscribed to the newsletter.\n",
    "- **sessions.csv**: Contains one row per play-session, each row contains a hashed email for the player, as well as start and end times of the session.\n",
    "\n",
    "It is important to note that if necessary, players could be linked to their individual sessions by using their hashed email, which is a variable present in both datasets.\n",
    "\n",
    "In order to understand the data, both datasets will be previewed and explained, before summary statistics are calculated. The first dataset will be the players.csv set, which contains player data.\n"
   ]
  },
  {
   "cell_type": "code",
   "execution_count": 1,
   "id": "7b9c26c7-96f3-4fa3-9e79-3a9a620a39f6",
   "metadata": {},
   "outputs": [
    {
     "name": "stderr",
     "output_type": "stream",
     "text": [
      "── \u001b[1mAttaching core tidyverse packages\u001b[22m ──────────────────────── tidyverse 2.0.0 ──\n",
      "\u001b[32m✔\u001b[39m \u001b[34mdplyr    \u001b[39m 1.1.4     \u001b[32m✔\u001b[39m \u001b[34mreadr    \u001b[39m 2.1.5\n",
      "\u001b[32m✔\u001b[39m \u001b[34mforcats  \u001b[39m 1.0.0     \u001b[32m✔\u001b[39m \u001b[34mstringr  \u001b[39m 1.5.1\n",
      "\u001b[32m✔\u001b[39m \u001b[34mggplot2  \u001b[39m 3.5.1     \u001b[32m✔\u001b[39m \u001b[34mtibble   \u001b[39m 3.2.1\n",
      "\u001b[32m✔\u001b[39m \u001b[34mlubridate\u001b[39m 1.9.3     \u001b[32m✔\u001b[39m \u001b[34mtidyr    \u001b[39m 1.3.1\n",
      "\u001b[32m✔\u001b[39m \u001b[34mpurrr    \u001b[39m 1.0.2     \n",
      "── \u001b[1mConflicts\u001b[22m ────────────────────────────────────────── tidyverse_conflicts() ──\n",
      "\u001b[31m✖\u001b[39m \u001b[34mdplyr\u001b[39m::\u001b[32mfilter()\u001b[39m masks \u001b[34mstats\u001b[39m::filter()\n",
      "\u001b[31m✖\u001b[39m \u001b[34mdplyr\u001b[39m::\u001b[32mlag()\u001b[39m    masks \u001b[34mstats\u001b[39m::lag()\n",
      "\u001b[36mℹ\u001b[39m Use the conflicted package (\u001b[3m\u001b[34m<http://conflicted.r-lib.org/>\u001b[39m\u001b[23m) to force all conflicts to become errors\n",
      "\u001b[1mRows: \u001b[22m\u001b[34m196\u001b[39m \u001b[1mColumns: \u001b[22m\u001b[34m7\u001b[39m\n",
      "\u001b[36m──\u001b[39m \u001b[1mColumn specification\u001b[22m \u001b[36m────────────────────────────────────────────────────────\u001b[39m\n",
      "\u001b[1mDelimiter:\u001b[22m \",\"\n",
      "\u001b[31mchr\u001b[39m (4): experience, hashedEmail, name, gender\n",
      "\u001b[32mdbl\u001b[39m (2): played_hours, Age\n",
      "\u001b[33mlgl\u001b[39m (1): subscribe\n",
      "\n",
      "\u001b[36mℹ\u001b[39m Use `spec()` to retrieve the full column specification for this data.\n",
      "\u001b[36mℹ\u001b[39m Specify the column types or set `show_col_types = FALSE` to quiet this message.\n"
     ]
    },
    {
     "data": {
      "text/html": [
       "<table class=\"dataframe\">\n",
       "<caption>A tibble: 10 × 7</caption>\n",
       "<thead>\n",
       "\t<tr><th scope=col>experience</th><th scope=col>subscribe</th><th scope=col>hashedEmail</th><th scope=col>played_hours</th><th scope=col>name</th><th scope=col>gender</th><th scope=col>Age</th></tr>\n",
       "\t<tr><th scope=col>&lt;chr&gt;</th><th scope=col>&lt;lgl&gt;</th><th scope=col>&lt;chr&gt;</th><th scope=col>&lt;dbl&gt;</th><th scope=col>&lt;chr&gt;</th><th scope=col>&lt;chr&gt;</th><th scope=col>&lt;dbl&gt;</th></tr>\n",
       "</thead>\n",
       "<tbody>\n",
       "\t<tr><td>Pro    </td><td> TRUE</td><td>f6daba428a5e19a3d47574858c13550499be23603422e6a0ee9728f8b53e192d</td><td>30.3</td><td>Morgan   </td><td>Male  </td><td> 9</td></tr>\n",
       "\t<tr><td>Veteran</td><td> TRUE</td><td>f3c813577c458ba0dfef80996f8f32c93b6e8af1fa939732842f2312358a88e9</td><td> 3.8</td><td>Christian</td><td>Male  </td><td>17</td></tr>\n",
       "\t<tr><td>Veteran</td><td>FALSE</td><td>b674dd7ee0d24096d1c019615ce4d12b20fcbff12d79d3c5a9d2118eb7ccbb28</td><td> 0.0</td><td>Blake    </td><td>Male  </td><td>17</td></tr>\n",
       "\t<tr><td>Amateur</td><td> TRUE</td><td>23fe711e0e3b77f1da7aa221ab1192afe21648d47d2b4fa7a5a659ff443a0eb5</td><td> 0.7</td><td>Flora    </td><td>Female</td><td>21</td></tr>\n",
       "\t<tr><td>Regular</td><td> TRUE</td><td>7dc01f10bf20671ecfccdac23812b1b415acd42c2147cb0af4d48fcce2420f3e</td><td> 0.1</td><td>Kylie    </td><td>Male  </td><td>21</td></tr>\n",
       "\t<tr><td>Amateur</td><td> TRUE</td><td>f58aad5996a435f16b0284a3b267f973f9af99e7a89bee0430055a44fa92f977</td><td> 0.0</td><td>Adrian   </td><td>Female</td><td>17</td></tr>\n",
       "\t<tr><td>Regular</td><td> TRUE</td><td>8e594b8953193b26f498db95a508b03c6fe1c24bb5251d392c18a0da9a722807</td><td> 0.0</td><td>Luna     </td><td>Female</td><td>19</td></tr>\n",
       "\t<tr><td>Amateur</td><td>FALSE</td><td>1d2371d8a35c8831034b25bda8764539ab7db0f63938696917c447128a2540dd</td><td> 0.0</td><td>Emerson  </td><td>Male  </td><td>21</td></tr>\n",
       "\t<tr><td>Amateur</td><td> TRUE</td><td>8b71f4d66a38389b7528bb38ba6eb71157733df7d1740371852a797ae97d82d1</td><td> 0.1</td><td>Natalie  </td><td>Male  </td><td>47</td></tr>\n",
       "\t<tr><td>Veteran</td><td> TRUE</td><td>bbe2d83de678f519c4b3daa7265e683b4fe2d814077f9094afd11d8f217039ec</td><td> 0.0</td><td>Nyla     </td><td>Female</td><td>22</td></tr>\n",
       "</tbody>\n",
       "</table>\n"
      ],
      "text/latex": [
       "A tibble: 10 × 7\n",
       "\\begin{tabular}{lllllll}\n",
       " experience & subscribe & hashedEmail & played\\_hours & name & gender & Age\\\\\n",
       " <chr> & <lgl> & <chr> & <dbl> & <chr> & <chr> & <dbl>\\\\\n",
       "\\hline\n",
       "\t Pro     &  TRUE & f6daba428a5e19a3d47574858c13550499be23603422e6a0ee9728f8b53e192d & 30.3 & Morgan    & Male   &  9\\\\\n",
       "\t Veteran &  TRUE & f3c813577c458ba0dfef80996f8f32c93b6e8af1fa939732842f2312358a88e9 &  3.8 & Christian & Male   & 17\\\\\n",
       "\t Veteran & FALSE & b674dd7ee0d24096d1c019615ce4d12b20fcbff12d79d3c5a9d2118eb7ccbb28 &  0.0 & Blake     & Male   & 17\\\\\n",
       "\t Amateur &  TRUE & 23fe711e0e3b77f1da7aa221ab1192afe21648d47d2b4fa7a5a659ff443a0eb5 &  0.7 & Flora     & Female & 21\\\\\n",
       "\t Regular &  TRUE & 7dc01f10bf20671ecfccdac23812b1b415acd42c2147cb0af4d48fcce2420f3e &  0.1 & Kylie     & Male   & 21\\\\\n",
       "\t Amateur &  TRUE & f58aad5996a435f16b0284a3b267f973f9af99e7a89bee0430055a44fa92f977 &  0.0 & Adrian    & Female & 17\\\\\n",
       "\t Regular &  TRUE & 8e594b8953193b26f498db95a508b03c6fe1c24bb5251d392c18a0da9a722807 &  0.0 & Luna      & Female & 19\\\\\n",
       "\t Amateur & FALSE & 1d2371d8a35c8831034b25bda8764539ab7db0f63938696917c447128a2540dd &  0.0 & Emerson   & Male   & 21\\\\\n",
       "\t Amateur &  TRUE & 8b71f4d66a38389b7528bb38ba6eb71157733df7d1740371852a797ae97d82d1 &  0.1 & Natalie   & Male   & 47\\\\\n",
       "\t Veteran &  TRUE & bbe2d83de678f519c4b3daa7265e683b4fe2d814077f9094afd11d8f217039ec &  0.0 & Nyla      & Female & 22\\\\\n",
       "\\end{tabular}\n"
      ],
      "text/markdown": [
       "\n",
       "A tibble: 10 × 7\n",
       "\n",
       "| experience &lt;chr&gt; | subscribe &lt;lgl&gt; | hashedEmail &lt;chr&gt; | played_hours &lt;dbl&gt; | name &lt;chr&gt; | gender &lt;chr&gt; | Age &lt;dbl&gt; |\n",
       "|---|---|---|---|---|---|---|\n",
       "| Pro     |  TRUE | f6daba428a5e19a3d47574858c13550499be23603422e6a0ee9728f8b53e192d | 30.3 | Morgan    | Male   |  9 |\n",
       "| Veteran |  TRUE | f3c813577c458ba0dfef80996f8f32c93b6e8af1fa939732842f2312358a88e9 |  3.8 | Christian | Male   | 17 |\n",
       "| Veteran | FALSE | b674dd7ee0d24096d1c019615ce4d12b20fcbff12d79d3c5a9d2118eb7ccbb28 |  0.0 | Blake     | Male   | 17 |\n",
       "| Amateur |  TRUE | 23fe711e0e3b77f1da7aa221ab1192afe21648d47d2b4fa7a5a659ff443a0eb5 |  0.7 | Flora     | Female | 21 |\n",
       "| Regular |  TRUE | 7dc01f10bf20671ecfccdac23812b1b415acd42c2147cb0af4d48fcce2420f3e |  0.1 | Kylie     | Male   | 21 |\n",
       "| Amateur |  TRUE | f58aad5996a435f16b0284a3b267f973f9af99e7a89bee0430055a44fa92f977 |  0.0 | Adrian    | Female | 17 |\n",
       "| Regular |  TRUE | 8e594b8953193b26f498db95a508b03c6fe1c24bb5251d392c18a0da9a722807 |  0.0 | Luna      | Female | 19 |\n",
       "| Amateur | FALSE | 1d2371d8a35c8831034b25bda8764539ab7db0f63938696917c447128a2540dd |  0.0 | Emerson   | Male   | 21 |\n",
       "| Amateur |  TRUE | 8b71f4d66a38389b7528bb38ba6eb71157733df7d1740371852a797ae97d82d1 |  0.1 | Natalie   | Male   | 47 |\n",
       "| Veteran |  TRUE | bbe2d83de678f519c4b3daa7265e683b4fe2d814077f9094afd11d8f217039ec |  0.0 | Nyla      | Female | 22 |\n",
       "\n"
      ],
      "text/plain": [
       "   experience subscribe\n",
       "1  Pro         TRUE    \n",
       "2  Veteran     TRUE    \n",
       "3  Veteran    FALSE    \n",
       "4  Amateur     TRUE    \n",
       "5  Regular     TRUE    \n",
       "6  Amateur     TRUE    \n",
       "7  Regular     TRUE    \n",
       "8  Amateur    FALSE    \n",
       "9  Amateur     TRUE    \n",
       "10 Veteran     TRUE    \n",
       "   hashedEmail                                                     \n",
       "1  f6daba428a5e19a3d47574858c13550499be23603422e6a0ee9728f8b53e192d\n",
       "2  f3c813577c458ba0dfef80996f8f32c93b6e8af1fa939732842f2312358a88e9\n",
       "3  b674dd7ee0d24096d1c019615ce4d12b20fcbff12d79d3c5a9d2118eb7ccbb28\n",
       "4  23fe711e0e3b77f1da7aa221ab1192afe21648d47d2b4fa7a5a659ff443a0eb5\n",
       "5  7dc01f10bf20671ecfccdac23812b1b415acd42c2147cb0af4d48fcce2420f3e\n",
       "6  f58aad5996a435f16b0284a3b267f973f9af99e7a89bee0430055a44fa92f977\n",
       "7  8e594b8953193b26f498db95a508b03c6fe1c24bb5251d392c18a0da9a722807\n",
       "8  1d2371d8a35c8831034b25bda8764539ab7db0f63938696917c447128a2540dd\n",
       "9  8b71f4d66a38389b7528bb38ba6eb71157733df7d1740371852a797ae97d82d1\n",
       "10 bbe2d83de678f519c4b3daa7265e683b4fe2d814077f9094afd11d8f217039ec\n",
       "   played_hours name      gender Age\n",
       "1  30.3         Morgan    Male    9 \n",
       "2   3.8         Christian Male   17 \n",
       "3   0.0         Blake     Male   17 \n",
       "4   0.7         Flora     Female 21 \n",
       "5   0.1         Kylie     Male   21 \n",
       "6   0.0         Adrian    Female 17 \n",
       "7   0.0         Luna      Female 19 \n",
       "8   0.0         Emerson   Male   21 \n",
       "9   0.1         Natalie   Male   47 \n",
       "10  0.0         Nyla      Female 22 "
      ]
     },
     "metadata": {},
     "output_type": "display_data"
    }
   ],
   "source": [
    "library(tidyverse)\n",
    "\n",
    "players <- read_csv(\"Data/players.csv\")\n",
    "\n",
    "head(players, n = 10)"
   ]
  },
  {
   "cell_type": "markdown",
   "id": "1f3f79fd-b00b-41a4-8e4b-0b3268b2e968",
   "metadata": {},
   "source": [
    "As shown above, there are **196** observations across **7** variables. \n",
    "- **experience**: This is a character variable that has 5 different options, based on the player's experience on playing Minecraft\n",
    "- **subscribe**: This is a logical variable that depends on whether the player has subscribed to the newsletter\n",
    "- **hashedEmail**: A character variable that gives an encoded version of the player's email\n",
    "- **played_hours**: A double variable that gives the total number of time the player spent playing the game\n",
    "- **name**: A character variable that gives the player's name\n",
    "- **gender**: A character variable that gives the player's gender\n",
    "- **age**: A double variable that gives the player's age"
   ]
  },
  {
   "cell_type": "markdown",
   "id": "3fb5080b-1235-4943-827f-51f04d13ba6f",
   "metadata": {},
   "source": [
    "Now, summary statistics will be calculated for the dataframe:"
   ]
  },
  {
   "cell_type": "code",
   "execution_count": 2,
   "id": "cde9c0f1-e93f-4a16-9c73-bb91cdce42ab",
   "metadata": {},
   "outputs": [
    {
     "data": {
      "text/html": [
       "<table class=\"dataframe\">\n",
       "<caption>A tibble: 1 × 4</caption>\n",
       "<thead>\n",
       "\t<tr><th scope=col>mean_age</th><th scope=col>median_age</th><th scope=col>min_age</th><th scope=col>max_age</th></tr>\n",
       "\t<tr><th scope=col>&lt;dbl&gt;</th><th scope=col>&lt;dbl&gt;</th><th scope=col>&lt;dbl&gt;</th><th scope=col>&lt;dbl&gt;</th></tr>\n",
       "</thead>\n",
       "<tbody>\n",
       "\t<tr><td>21.14</td><td>19</td><td>9</td><td>58</td></tr>\n",
       "</tbody>\n",
       "</table>\n"
      ],
      "text/latex": [
       "A tibble: 1 × 4\n",
       "\\begin{tabular}{llll}\n",
       " mean\\_age & median\\_age & min\\_age & max\\_age\\\\\n",
       " <dbl> & <dbl> & <dbl> & <dbl>\\\\\n",
       "\\hline\n",
       "\t 21.14 & 19 & 9 & 58\\\\\n",
       "\\end{tabular}\n"
      ],
      "text/markdown": [
       "\n",
       "A tibble: 1 × 4\n",
       "\n",
       "| mean_age &lt;dbl&gt; | median_age &lt;dbl&gt; | min_age &lt;dbl&gt; | max_age &lt;dbl&gt; |\n",
       "|---|---|---|---|\n",
       "| 21.14 | 19 | 9 | 58 |\n",
       "\n"
      ],
      "text/plain": [
       "  mean_age median_age min_age max_age\n",
       "1 21.14    19         9       58     "
      ]
     },
     "metadata": {},
     "output_type": "display_data"
    },
    {
     "data": {
      "text/html": [
       "<table class=\"dataframe\">\n",
       "<caption>A tibble: 1 × 4</caption>\n",
       "<thead>\n",
       "\t<tr><th scope=col>mean_played_hours</th><th scope=col>median_played_hours</th><th scope=col>min_played_hours</th><th scope=col>max_played_hours</th></tr>\n",
       "\t<tr><th scope=col>&lt;dbl&gt;</th><th scope=col>&lt;dbl&gt;</th><th scope=col>&lt;dbl&gt;</th><th scope=col>&lt;dbl&gt;</th></tr>\n",
       "</thead>\n",
       "<tbody>\n",
       "\t<tr><td>5.85</td><td>0.1</td><td>0</td><td>223.1</td></tr>\n",
       "</tbody>\n",
       "</table>\n"
      ],
      "text/latex": [
       "A tibble: 1 × 4\n",
       "\\begin{tabular}{llll}\n",
       " mean\\_played\\_hours & median\\_played\\_hours & min\\_played\\_hours & max\\_played\\_hours\\\\\n",
       " <dbl> & <dbl> & <dbl> & <dbl>\\\\\n",
       "\\hline\n",
       "\t 5.85 & 0.1 & 0 & 223.1\\\\\n",
       "\\end{tabular}\n"
      ],
      "text/markdown": [
       "\n",
       "A tibble: 1 × 4\n",
       "\n",
       "| mean_played_hours &lt;dbl&gt; | median_played_hours &lt;dbl&gt; | min_played_hours &lt;dbl&gt; | max_played_hours &lt;dbl&gt; |\n",
       "|---|---|---|---|\n",
       "| 5.85 | 0.1 | 0 | 223.1 |\n",
       "\n"
      ],
      "text/plain": [
       "  mean_played_hours median_played_hours min_played_hours max_played_hours\n",
       "1 5.85              0.1                 0                223.1           "
      ]
     },
     "metadata": {},
     "output_type": "display_data"
    },
    {
     "data": {
      "text/html": [
       "<table class=\"dataframe\">\n",
       "<caption>A tibble: 7 × 3</caption>\n",
       "<thead>\n",
       "\t<tr><th scope=col>gender</th><th scope=col>number</th><th scope=col>percentage</th></tr>\n",
       "\t<tr><th scope=col>&lt;fct&gt;</th><th scope=col>&lt;int&gt;</th><th scope=col>&lt;dbl&gt;</th></tr>\n",
       "</thead>\n",
       "<tbody>\n",
       "\t<tr><td>Agender          </td><td>  2</td><td> 1.02</td></tr>\n",
       "\t<tr><td>Female           </td><td> 37</td><td>18.88</td></tr>\n",
       "\t<tr><td>Male             </td><td>124</td><td>63.27</td></tr>\n",
       "\t<tr><td>Non-binary       </td><td> 15</td><td> 7.65</td></tr>\n",
       "\t<tr><td>Other            </td><td>  1</td><td> 0.51</td></tr>\n",
       "\t<tr><td>Prefer not to say</td><td> 11</td><td> 5.61</td></tr>\n",
       "\t<tr><td>Two-Spirited     </td><td>  6</td><td> 3.06</td></tr>\n",
       "</tbody>\n",
       "</table>\n"
      ],
      "text/latex": [
       "A tibble: 7 × 3\n",
       "\\begin{tabular}{lll}\n",
       " gender & number & percentage\\\\\n",
       " <fct> & <int> & <dbl>\\\\\n",
       "\\hline\n",
       "\t Agender           &   2 &  1.02\\\\\n",
       "\t Female            &  37 & 18.88\\\\\n",
       "\t Male              & 124 & 63.27\\\\\n",
       "\t Non-binary        &  15 &  7.65\\\\\n",
       "\t Other             &   1 &  0.51\\\\\n",
       "\t Prefer not to say &  11 &  5.61\\\\\n",
       "\t Two-Spirited      &   6 &  3.06\\\\\n",
       "\\end{tabular}\n"
      ],
      "text/markdown": [
       "\n",
       "A tibble: 7 × 3\n",
       "\n",
       "| gender &lt;fct&gt; | number &lt;int&gt; | percentage &lt;dbl&gt; |\n",
       "|---|---|---|\n",
       "| Agender           |   2 |  1.02 |\n",
       "| Female            |  37 | 18.88 |\n",
       "| Male              | 124 | 63.27 |\n",
       "| Non-binary        |  15 |  7.65 |\n",
       "| Other             |   1 |  0.51 |\n",
       "| Prefer not to say |  11 |  5.61 |\n",
       "| Two-Spirited      |   6 |  3.06 |\n",
       "\n"
      ],
      "text/plain": [
       "  gender            number percentage\n",
       "1 Agender             2     1.02     \n",
       "2 Female             37    18.88     \n",
       "3 Male              124    63.27     \n",
       "4 Non-binary         15     7.65     \n",
       "5 Other               1     0.51     \n",
       "6 Prefer not to say  11     5.61     \n",
       "7 Two-Spirited        6     3.06     "
      ]
     },
     "metadata": {},
     "output_type": "display_data"
    },
    {
     "data": {
      "text/html": [
       "<table class=\"dataframe\">\n",
       "<caption>A tibble: 5 × 3</caption>\n",
       "<thead>\n",
       "\t<tr><th scope=col>experience</th><th scope=col>number</th><th scope=col>percentage</th></tr>\n",
       "\t<tr><th scope=col>&lt;fct&gt;</th><th scope=col>&lt;int&gt;</th><th scope=col>&lt;dbl&gt;</th></tr>\n",
       "</thead>\n",
       "<tbody>\n",
       "\t<tr><td>Amateur </td><td>63</td><td>32.14</td></tr>\n",
       "\t<tr><td>Beginner</td><td>35</td><td>17.86</td></tr>\n",
       "\t<tr><td>Pro     </td><td>14</td><td> 7.14</td></tr>\n",
       "\t<tr><td>Regular </td><td>36</td><td>18.37</td></tr>\n",
       "\t<tr><td>Veteran </td><td>48</td><td>24.49</td></tr>\n",
       "</tbody>\n",
       "</table>\n"
      ],
      "text/latex": [
       "A tibble: 5 × 3\n",
       "\\begin{tabular}{lll}\n",
       " experience & number & percentage\\\\\n",
       " <fct> & <int> & <dbl>\\\\\n",
       "\\hline\n",
       "\t Amateur  & 63 & 32.14\\\\\n",
       "\t Beginner & 35 & 17.86\\\\\n",
       "\t Pro      & 14 &  7.14\\\\\n",
       "\t Regular  & 36 & 18.37\\\\\n",
       "\t Veteran  & 48 & 24.49\\\\\n",
       "\\end{tabular}\n"
      ],
      "text/markdown": [
       "\n",
       "A tibble: 5 × 3\n",
       "\n",
       "| experience &lt;fct&gt; | number &lt;int&gt; | percentage &lt;dbl&gt; |\n",
       "|---|---|---|\n",
       "| Amateur  | 63 | 32.14 |\n",
       "| Beginner | 35 | 17.86 |\n",
       "| Pro      | 14 |  7.14 |\n",
       "| Regular  | 36 | 18.37 |\n",
       "| Veteran  | 48 | 24.49 |\n",
       "\n"
      ],
      "text/plain": [
       "  experience number percentage\n",
       "1 Amateur    63     32.14     \n",
       "2 Beginner   35     17.86     \n",
       "3 Pro        14      7.14     \n",
       "4 Regular    36     18.37     \n",
       "5 Veteran    48     24.49     "
      ]
     },
     "metadata": {},
     "output_type": "display_data"
    },
    {
     "data": {
      "text/html": [
       "<table class=\"dataframe\">\n",
       "<caption>A tibble: 2 × 3</caption>\n",
       "<thead>\n",
       "\t<tr><th scope=col>subscribe</th><th scope=col>number</th><th scope=col>percentage</th></tr>\n",
       "\t<tr><th scope=col>&lt;fct&gt;</th><th scope=col>&lt;int&gt;</th><th scope=col>&lt;dbl&gt;</th></tr>\n",
       "</thead>\n",
       "<tbody>\n",
       "\t<tr><td>FALSE</td><td> 52</td><td>26.53</td></tr>\n",
       "\t<tr><td>TRUE </td><td>144</td><td>73.47</td></tr>\n",
       "</tbody>\n",
       "</table>\n"
      ],
      "text/latex": [
       "A tibble: 2 × 3\n",
       "\\begin{tabular}{lll}\n",
       " subscribe & number & percentage\\\\\n",
       " <fct> & <int> & <dbl>\\\\\n",
       "\\hline\n",
       "\t FALSE &  52 & 26.53\\\\\n",
       "\t TRUE  & 144 & 73.47\\\\\n",
       "\\end{tabular}\n"
      ],
      "text/markdown": [
       "\n",
       "A tibble: 2 × 3\n",
       "\n",
       "| subscribe &lt;fct&gt; | number &lt;int&gt; | percentage &lt;dbl&gt; |\n",
       "|---|---|---|\n",
       "| FALSE |  52 | 26.53 |\n",
       "| TRUE  | 144 | 73.47 |\n",
       "\n"
      ],
      "text/plain": [
       "  subscribe number percentage\n",
       "1 FALSE      52    26.53     \n",
       "2 TRUE      144    73.47     "
      ]
     },
     "metadata": {},
     "output_type": "display_data"
    }
   ],
   "source": [
    "players_factor <- players |>\n",
    "  #Converts non numerical variables to factors so percentages can be calculated\n",
    "  mutate(experience = factor(experience),\n",
    "    gender = factor(gender),\n",
    "    subscribe = factor(subscribe)\n",
    "        )\n",
    "#Summarise to calculate summary statistics for age and hours played\n",
    "age_summary <- players_factor |>\n",
    "    summarise(mean_age = round(mean(Age, na.rm = TRUE), 2),\n",
    "              median_age = median(Age, na.rm = TRUE),\n",
    "              min_age = min(Age, na.rm = TRUE),\n",
    "              max_age = max(Age, na.rm = TRUE)\n",
    "              )\n",
    "age_summary\n",
    "hours_summary <- players_factor |>\n",
    "    summarise(mean_played_hours = round(mean(played_hours, na.rm = TRUE), 2),\n",
    "            median_played_hours = median(played_hours, na.rm = TRUE),\n",
    "            min_played_hours = min(played_hours, na.rm = TRUE),\n",
    "            max_played_hours = max(played_hours, na.rm = TRUE)\n",
    "             )\n",
    "\n",
    "hours_summary\n",
    "\n",
    "#Percentages for gender, experience and subscribed\n",
    "gender_pct <- players_factor |>\n",
    "  count(gender) |>\n",
    "  mutate(percentage = round(n / sum(n) * 100, 2))|>\n",
    "  rename(number = n)\n",
    "\n",
    "experience_pct <- players_factor |>\n",
    "  count(experience) |>\n",
    "  mutate(percentage = round(n / sum(n) * 100, 2))|>\n",
    "  rename(number = n)\n",
    "\n",
    "subscribe_pct <- players_factor |>\n",
    "  count(subscribe) |>\n",
    "  mutate(percentage = round(n / sum(n) * 100, 2))|>\n",
    "  rename(number = n)\n",
    "\n",
    "gender_pct\n",
    "experience_pct\n",
    "subscribe_pct"
   ]
  },
  {
   "cell_type": "markdown",
   "id": "d5cd2ac8-7d60-4337-b445-a27e4cef9be8",
   "metadata": {},
   "source": [
    "Now, the same process will be applied to the sessions.csv dataset, which outlines each individual session played on MineCraft."
   ]
  },
  {
   "cell_type": "code",
   "execution_count": 3,
   "id": "b0825639-68f5-45d0-99e3-4d73835734d4",
   "metadata": {},
   "outputs": [
    {
     "name": "stderr",
     "output_type": "stream",
     "text": [
      "\u001b[1mRows: \u001b[22m\u001b[34m1535\u001b[39m \u001b[1mColumns: \u001b[22m\u001b[34m5\u001b[39m\n",
      "\u001b[36m──\u001b[39m \u001b[1mColumn specification\u001b[22m \u001b[36m────────────────────────────────────────────────────────\u001b[39m\n",
      "\u001b[1mDelimiter:\u001b[22m \",\"\n",
      "\u001b[31mchr\u001b[39m (3): hashedEmail, start_time, end_time\n",
      "\u001b[32mdbl\u001b[39m (2): original_start_time, original_end_time\n",
      "\n",
      "\u001b[36mℹ\u001b[39m Use `spec()` to retrieve the full column specification for this data.\n",
      "\u001b[36mℹ\u001b[39m Specify the column types or set `show_col_types = FALSE` to quiet this message.\n"
     ]
    },
    {
     "data": {
      "text/html": [
       "<table class=\"dataframe\">\n",
       "<caption>A tibble: 10 × 5</caption>\n",
       "<thead>\n",
       "\t<tr><th scope=col>hashedEmail</th><th scope=col>start_time</th><th scope=col>end_time</th><th scope=col>original_start_time</th><th scope=col>original_end_time</th></tr>\n",
       "\t<tr><th scope=col>&lt;chr&gt;</th><th scope=col>&lt;chr&gt;</th><th scope=col>&lt;chr&gt;</th><th scope=col>&lt;dbl&gt;</th><th scope=col>&lt;dbl&gt;</th></tr>\n",
       "</thead>\n",
       "<tbody>\n",
       "\t<tr><td>bfce39c89d6549f2bb94d8064d3ce69dc3d7e72b38f431d8aa0c4bf95ccee6bf</td><td>30/06/2024 18:12</td><td>30/06/2024 18:24</td><td>1.71977e+12</td><td>1.71977e+12</td></tr>\n",
       "\t<tr><td>36d9cbb4c6bc0c1a6911436d2da0d09ec625e43e6552f575d4acc9cf487c4686</td><td>17/06/2024 23:33</td><td>17/06/2024 23:46</td><td>1.71867e+12</td><td>1.71867e+12</td></tr>\n",
       "\t<tr><td>f8f5477f5a2e53616ae37421b1c660b971192bd8ff77e3398304c7ae42581fdc</td><td>25/07/2024 17:34</td><td>25/07/2024 17:57</td><td>1.72193e+12</td><td>1.72193e+12</td></tr>\n",
       "\t<tr><td>bfce39c89d6549f2bb94d8064d3ce69dc3d7e72b38f431d8aa0c4bf95ccee6bf</td><td>25/07/2024 03:22</td><td>25/07/2024 03:58</td><td>1.72188e+12</td><td>1.72188e+12</td></tr>\n",
       "\t<tr><td>36d9cbb4c6bc0c1a6911436d2da0d09ec625e43e6552f575d4acc9cf487c4686</td><td>25/05/2024 16:01</td><td>25/05/2024 16:12</td><td>1.71665e+12</td><td>1.71665e+12</td></tr>\n",
       "\t<tr><td>bfce39c89d6549f2bb94d8064d3ce69dc3d7e72b38f431d8aa0c4bf95ccee6bf</td><td>23/06/2024 15:08</td><td>23/06/2024 17:10</td><td>1.71916e+12</td><td>1.71916e+12</td></tr>\n",
       "\t<tr><td>fd6563a4e0f6f4273580e5fedbd8dda64990447aea5a33cbb5e894a3867ca44d</td><td>15/04/2024 07:12</td><td>15/04/2024 07:21</td><td>1.71317e+12</td><td>1.71317e+12</td></tr>\n",
       "\t<tr><td>ad6390295640af1ed0e45ffc58a53b2d9074b0eea694b16210addd44d7c81f83</td><td>21/09/2024 02:13</td><td>21/09/2024 02:30</td><td>1.72688e+12</td><td>1.72689e+12</td></tr>\n",
       "\t<tr><td>96e190b0bf3923cd8d349eee467c09d1130af143335779251492eb4c2c058a5f</td><td>21/06/2024 02:31</td><td>21/06/2024 02:49</td><td>1.71894e+12</td><td>1.71894e+12</td></tr>\n",
       "\t<tr><td>36d9cbb4c6bc0c1a6911436d2da0d09ec625e43e6552f575d4acc9cf487c4686</td><td>16/05/2024 05:13</td><td>16/05/2024 05:52</td><td>1.71584e+12</td><td>1.71584e+12</td></tr>\n",
       "</tbody>\n",
       "</table>\n"
      ],
      "text/latex": [
       "A tibble: 10 × 5\n",
       "\\begin{tabular}{lllll}\n",
       " hashedEmail & start\\_time & end\\_time & original\\_start\\_time & original\\_end\\_time\\\\\n",
       " <chr> & <chr> & <chr> & <dbl> & <dbl>\\\\\n",
       "\\hline\n",
       "\t bfce39c89d6549f2bb94d8064d3ce69dc3d7e72b38f431d8aa0c4bf95ccee6bf & 30/06/2024 18:12 & 30/06/2024 18:24 & 1.71977e+12 & 1.71977e+12\\\\\n",
       "\t 36d9cbb4c6bc0c1a6911436d2da0d09ec625e43e6552f575d4acc9cf487c4686 & 17/06/2024 23:33 & 17/06/2024 23:46 & 1.71867e+12 & 1.71867e+12\\\\\n",
       "\t f8f5477f5a2e53616ae37421b1c660b971192bd8ff77e3398304c7ae42581fdc & 25/07/2024 17:34 & 25/07/2024 17:57 & 1.72193e+12 & 1.72193e+12\\\\\n",
       "\t bfce39c89d6549f2bb94d8064d3ce69dc3d7e72b38f431d8aa0c4bf95ccee6bf & 25/07/2024 03:22 & 25/07/2024 03:58 & 1.72188e+12 & 1.72188e+12\\\\\n",
       "\t 36d9cbb4c6bc0c1a6911436d2da0d09ec625e43e6552f575d4acc9cf487c4686 & 25/05/2024 16:01 & 25/05/2024 16:12 & 1.71665e+12 & 1.71665e+12\\\\\n",
       "\t bfce39c89d6549f2bb94d8064d3ce69dc3d7e72b38f431d8aa0c4bf95ccee6bf & 23/06/2024 15:08 & 23/06/2024 17:10 & 1.71916e+12 & 1.71916e+12\\\\\n",
       "\t fd6563a4e0f6f4273580e5fedbd8dda64990447aea5a33cbb5e894a3867ca44d & 15/04/2024 07:12 & 15/04/2024 07:21 & 1.71317e+12 & 1.71317e+12\\\\\n",
       "\t ad6390295640af1ed0e45ffc58a53b2d9074b0eea694b16210addd44d7c81f83 & 21/09/2024 02:13 & 21/09/2024 02:30 & 1.72688e+12 & 1.72689e+12\\\\\n",
       "\t 96e190b0bf3923cd8d349eee467c09d1130af143335779251492eb4c2c058a5f & 21/06/2024 02:31 & 21/06/2024 02:49 & 1.71894e+12 & 1.71894e+12\\\\\n",
       "\t 36d9cbb4c6bc0c1a6911436d2da0d09ec625e43e6552f575d4acc9cf487c4686 & 16/05/2024 05:13 & 16/05/2024 05:52 & 1.71584e+12 & 1.71584e+12\\\\\n",
       "\\end{tabular}\n"
      ],
      "text/markdown": [
       "\n",
       "A tibble: 10 × 5\n",
       "\n",
       "| hashedEmail &lt;chr&gt; | start_time &lt;chr&gt; | end_time &lt;chr&gt; | original_start_time &lt;dbl&gt; | original_end_time &lt;dbl&gt; |\n",
       "|---|---|---|---|---|\n",
       "| bfce39c89d6549f2bb94d8064d3ce69dc3d7e72b38f431d8aa0c4bf95ccee6bf | 30/06/2024 18:12 | 30/06/2024 18:24 | 1.71977e+12 | 1.71977e+12 |\n",
       "| 36d9cbb4c6bc0c1a6911436d2da0d09ec625e43e6552f575d4acc9cf487c4686 | 17/06/2024 23:33 | 17/06/2024 23:46 | 1.71867e+12 | 1.71867e+12 |\n",
       "| f8f5477f5a2e53616ae37421b1c660b971192bd8ff77e3398304c7ae42581fdc | 25/07/2024 17:34 | 25/07/2024 17:57 | 1.72193e+12 | 1.72193e+12 |\n",
       "| bfce39c89d6549f2bb94d8064d3ce69dc3d7e72b38f431d8aa0c4bf95ccee6bf | 25/07/2024 03:22 | 25/07/2024 03:58 | 1.72188e+12 | 1.72188e+12 |\n",
       "| 36d9cbb4c6bc0c1a6911436d2da0d09ec625e43e6552f575d4acc9cf487c4686 | 25/05/2024 16:01 | 25/05/2024 16:12 | 1.71665e+12 | 1.71665e+12 |\n",
       "| bfce39c89d6549f2bb94d8064d3ce69dc3d7e72b38f431d8aa0c4bf95ccee6bf | 23/06/2024 15:08 | 23/06/2024 17:10 | 1.71916e+12 | 1.71916e+12 |\n",
       "| fd6563a4e0f6f4273580e5fedbd8dda64990447aea5a33cbb5e894a3867ca44d | 15/04/2024 07:12 | 15/04/2024 07:21 | 1.71317e+12 | 1.71317e+12 |\n",
       "| ad6390295640af1ed0e45ffc58a53b2d9074b0eea694b16210addd44d7c81f83 | 21/09/2024 02:13 | 21/09/2024 02:30 | 1.72688e+12 | 1.72689e+12 |\n",
       "| 96e190b0bf3923cd8d349eee467c09d1130af143335779251492eb4c2c058a5f | 21/06/2024 02:31 | 21/06/2024 02:49 | 1.71894e+12 | 1.71894e+12 |\n",
       "| 36d9cbb4c6bc0c1a6911436d2da0d09ec625e43e6552f575d4acc9cf487c4686 | 16/05/2024 05:13 | 16/05/2024 05:52 | 1.71584e+12 | 1.71584e+12 |\n",
       "\n"
      ],
      "text/plain": [
       "   hashedEmail                                                     \n",
       "1  bfce39c89d6549f2bb94d8064d3ce69dc3d7e72b38f431d8aa0c4bf95ccee6bf\n",
       "2  36d9cbb4c6bc0c1a6911436d2da0d09ec625e43e6552f575d4acc9cf487c4686\n",
       "3  f8f5477f5a2e53616ae37421b1c660b971192bd8ff77e3398304c7ae42581fdc\n",
       "4  bfce39c89d6549f2bb94d8064d3ce69dc3d7e72b38f431d8aa0c4bf95ccee6bf\n",
       "5  36d9cbb4c6bc0c1a6911436d2da0d09ec625e43e6552f575d4acc9cf487c4686\n",
       "6  bfce39c89d6549f2bb94d8064d3ce69dc3d7e72b38f431d8aa0c4bf95ccee6bf\n",
       "7  fd6563a4e0f6f4273580e5fedbd8dda64990447aea5a33cbb5e894a3867ca44d\n",
       "8  ad6390295640af1ed0e45ffc58a53b2d9074b0eea694b16210addd44d7c81f83\n",
       "9  96e190b0bf3923cd8d349eee467c09d1130af143335779251492eb4c2c058a5f\n",
       "10 36d9cbb4c6bc0c1a6911436d2da0d09ec625e43e6552f575d4acc9cf487c4686\n",
       "   start_time       end_time         original_start_time original_end_time\n",
       "1  30/06/2024 18:12 30/06/2024 18:24 1.71977e+12         1.71977e+12      \n",
       "2  17/06/2024 23:33 17/06/2024 23:46 1.71867e+12         1.71867e+12      \n",
       "3  25/07/2024 17:34 25/07/2024 17:57 1.72193e+12         1.72193e+12      \n",
       "4  25/07/2024 03:22 25/07/2024 03:58 1.72188e+12         1.72188e+12      \n",
       "5  25/05/2024 16:01 25/05/2024 16:12 1.71665e+12         1.71665e+12      \n",
       "6  23/06/2024 15:08 23/06/2024 17:10 1.71916e+12         1.71916e+12      \n",
       "7  15/04/2024 07:12 15/04/2024 07:21 1.71317e+12         1.71317e+12      \n",
       "8  21/09/2024 02:13 21/09/2024 02:30 1.72688e+12         1.72689e+12      \n",
       "9  21/06/2024 02:31 21/06/2024 02:49 1.71894e+12         1.71894e+12      \n",
       "10 16/05/2024 05:13 16/05/2024 05:52 1.71584e+12         1.71584e+12      "
      ]
     },
     "metadata": {},
     "output_type": "display_data"
    }
   ],
   "source": [
    "sessions <- read_csv(\"Data/sessions.csv\")\n",
    "\n",
    "head(n = 10,sessions)"
   ]
  },
  {
   "cell_type": "markdown",
   "id": "f184326b-07a0-4785-a063-8466aac6157b",
   "metadata": {},
   "source": [
    "There are **1535** observations and **5** variables for this dataset.\n",
    "- **hashedEmail**: As in the players dataset, hashed email is a character variable that gives an encoded version of the player's email\n",
    "- **start_time**: A character representation of the date (dd/mm/yy) and time (hh/mm) the player started the play session\n",
    "- **end_time**: A character representation of the date (dd/mm/yy) and time (hh/mm) the player ended the play session\n",
    "- **original_start_time**: A double representation of the amount of milliseconds from January 1st, 1970 to when the session was started\n",
    "- **original_end_time**: A double representation of the amount of milliseconds from January 1st, 1970 to when the session was ended"
   ]
  },
  {
   "cell_type": "markdown",
   "id": "1cd43270-b031-40e5-80a4-b9dd44b02e55",
   "metadata": {},
   "source": [
    "Once again, summary statistics will be calculated, these statistics will be focused on the length of each session:"
   ]
  },
  {
   "cell_type": "code",
   "execution_count": 4,
   "id": "8f239d61-629f-47b9-b1f8-d0cc20254114",
   "metadata": {},
   "outputs": [
    {
     "data": {
      "text/html": [
       "<table class=\"dataframe\">\n",
       "<caption>A tibble: 1 × 4</caption>\n",
       "<thead>\n",
       "\t<tr><th scope=col>mean_minutes</th><th scope=col>median_minutes</th><th scope=col>min_minutes</th><th scope=col>max_minutes</th></tr>\n",
       "\t<tr><th scope=col>&lt;dbl&gt;</th><th scope=col>&lt;dbl&gt;</th><th scope=col>&lt;dbl&gt;</th><th scope=col>&lt;dbl&gt;</th></tr>\n",
       "</thead>\n",
       "<tbody>\n",
       "\t<tr><td>50.86</td><td>30</td><td>3</td><td>259</td></tr>\n",
       "</tbody>\n",
       "</table>\n"
      ],
      "text/latex": [
       "A tibble: 1 × 4\n",
       "\\begin{tabular}{llll}\n",
       " mean\\_minutes & median\\_minutes & min\\_minutes & max\\_minutes\\\\\n",
       " <dbl> & <dbl> & <dbl> & <dbl>\\\\\n",
       "\\hline\n",
       "\t 50.86 & 30 & 3 & 259\\\\\n",
       "\\end{tabular}\n"
      ],
      "text/markdown": [
       "\n",
       "A tibble: 1 × 4\n",
       "\n",
       "| mean_minutes &lt;dbl&gt; | median_minutes &lt;dbl&gt; | min_minutes &lt;dbl&gt; | max_minutes &lt;dbl&gt; |\n",
       "|---|---|---|---|\n",
       "| 50.86 | 30 | 3 | 259 |\n",
       "\n"
      ],
      "text/plain": [
       "  mean_minutes median_minutes min_minutes max_minutes\n",
       "1 50.86        30             3           259        "
      ]
     },
     "metadata": {},
     "output_type": "display_data"
    }
   ],
   "source": [
    "library(lubridate)\n",
    "\n",
    "#advice on how to convert using lubridate taken from here:\n",
    "#https://www.r-bloggers.com/2024/09/mastering-date-and-time-data-in-r-with-lubridate/\n",
    "sessions_summary <- sessions |>\n",
    "  mutate(\n",
    "    start_time = dmy_hm(start_time),\n",
    "    end_time = dmy_hm(end_time),\n",
    "    session_minutes = as.numeric(end_time - start_time)\n",
    "  )|>\n",
    "summarise(\n",
    "    mean_minutes = round(mean(session_minutes, na.rm = TRUE), 2),\n",
    "    median_minutes = round(median(session_minutes, na.rm = TRUE), 2),\n",
    "    min_minutes = round(min(session_minutes, na.rm = TRUE ), 2),\n",
    "    max_minutes = round(max(session_minutes, na.rm = TRUE ), 2)\n",
    "    )\n",
    "\n",
    "sessions_summary\n"
   ]
  },
  {
   "cell_type": "markdown",
   "id": "4ecdb526-db36-46c7-95ce-55f2be3e9e97",
   "metadata": {},
   "source": [
    "**Limitations**\n",
    "\n",
    "Based on the two datasets, it is clear that while they are very useful, they do have some limitations. For example, there are many N/A values in both sets, meaning that in order to predict values accurately, methods such as mean imputation will have to be used. Additionally, there may have been some biases in collecting the data, based on the fact that it was targeted at other university students, as shown in the mean and median ages. This means that any results found in this study may be correct for UBC students and their tendencies, but not for the general population that includes a variety of ages. Neverthless, this study should provide important data on whether a person will subscribe to a game-related newsletter based on their demographics. "
   ]
  },
  {
   "cell_type": "markdown",
   "id": "0bd7527f-3baf-4a8f-8949-bf8896e1d22a",
   "metadata": {},
   "source": [
    "## 2. Questions\n",
    "The broad question that will be answered is: **\"What player characteristics and behaviours are most predictive of subscribing to a game-related newsletter, and how do these features differ between various player types?\"**\n",
    "\n",
    "Narrowing this down, the specific question that looks to be answered is: **\"Can gender and experience level predict whether a player will subscribe to a gaming newsletter?\"**\n",
    "\n",
    "To answer this question, the players.csv dataset will be used to explore whether trends exist between demographic characteristics and newsletter subscription status. Since Players.csv already has all of the variables required, multiple visualizations can be performed to explore any relationships or trends that exist. To start, however, some surface-level wrangling will have to be done, such as selecting the relevant columns, accounting for N/A values and ensuring that both predictor variables are factors. A classification model will then be made based on the clean dataset, in order to be able to predict whether a new player will subscribe to the newsletter. "
   ]
  },
  {
   "cell_type": "markdown",
   "id": "110d6f51-3143-49e4-b160-3082b3c10072",
   "metadata": {},
   "source": [
    "## 3. Exploratory Data Analysis and Visualization"
   ]
  },
  {
   "cell_type": "code",
   "execution_count": null,
   "id": "e83f5ee3-3381-42fa-81b7-89ed10630956",
   "metadata": {},
   "outputs": [],
   "source": []
  }
 ],
 "metadata": {
  "kernelspec": {
   "display_name": "R",
   "language": "R",
   "name": "ir"
  },
  "language_info": {
   "codemirror_mode": "r",
   "file_extension": ".r",
   "mimetype": "text/x-r-source",
   "name": "R",
   "pygments_lexer": "r",
   "version": "4.3.3"
  }
 },
 "nbformat": 4,
 "nbformat_minor": 5
}
